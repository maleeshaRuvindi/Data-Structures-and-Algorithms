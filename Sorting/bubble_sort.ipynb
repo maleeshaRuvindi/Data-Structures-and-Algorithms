{
 "cells": [
  {
   "cell_type": "code",
   "execution_count": 3,
   "metadata": {},
   "outputs": [],
   "source": [
    "def bubbleSort(arr):\n",
    "    for round in range(1,len(arr)):\n",
    "        still_sorting=False\n",
    "        for index in range(len(arr)-round):\n",
    "           if arr[index]>arr[index+1]:\n",
    "               still_sorting=True\n",
    "               temp=arr[index]\n",
    "               arr[index]=arr[index+1]\n",
    "               arr[index+1]=temp\n",
    "        if (still_sorting==False):\n",
    "            return arr\n",
    "    return arr\n",
    "             "
   ]
  },
  {
   "cell_type": "code",
   "execution_count": 5,
   "metadata": {},
   "outputs": [
    {
     "name": "stdout",
     "output_type": "stream",
     "text": [
      "[1, 2, 3, 4, 5, 6, 7, 8, 9, 10, 11, 12, 13, 14, 15, 16, 17, 18, 19, 20, 21, 22, 23, 24, 25, 26, 27, 28, 29, 30, 31, 32, 33, 34, 35, 36, 37, 38, 39, 40, 41, 42, 43, 44, 45, 46, 47, 48, 49, 50]\n"
     ]
    }
   ],
   "source": [
    "\n",
    "arr=[32, 5, 25, 11, 47, 19, 41, 3, 39, 28, 14, 46, 8, 33, 22, 36, 6, 18, 23, 1, 15, 48, 9, 31, 49, 17, 10, 4, 7, 13, 42, 30, 34, 26, 40, 38, 16, 12, 20, 2, 50, 29, 27, 24, 43, 44, 45, 21, 35, 37]\n",
    "print(bubbleSort(arr))"
   ]
  }
 ],
 "metadata": {
  "kernelspec": {
   "display_name": "Python 3",
   "language": "python",
   "name": "python3"
  },
  "language_info": {
   "codemirror_mode": {
    "name": "ipython",
    "version": 3
   },
   "file_extension": ".py",
   "mimetype": "text/x-python",
   "name": "python",
   "nbconvert_exporter": "python",
   "pygments_lexer": "ipython3",
   "version": "3.10.2"
  }
 },
 "nbformat": 4,
 "nbformat_minor": 2
}
