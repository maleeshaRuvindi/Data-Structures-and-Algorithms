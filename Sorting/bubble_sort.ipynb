{
 "cells": [
  {
   "cell_type": "code",
   "execution_count": 6,
   "metadata": {},
   "outputs": [],
   "source": [
    "def bubbleSort(arr):\n",
    "    for round in range(1,len(arr)):\n",
    "        for index in range(len(arr)-1):\n",
    "           if arr[index]>arr[index+1]:\n",
    "               temp=arr[index]\n",
    "               arr[index]=arr[index+1]\n",
    "               arr[index+1]=temp\n",
    "    return arr\n",
    "             "
   ]
  },
  {
   "cell_type": "code",
   "execution_count": 7,
   "metadata": {},
   "outputs": [
    {
     "name": "stdout",
     "output_type": "stream",
     "text": [
      "[1, 2, 7, 8, 12, 20, 21, 34]\n"
     ]
    }
   ],
   "source": [
    "arr=[12,34,2,1,7,20,8,21]\n",
    "print(bubbleSort(arr))"
   ]
  }
 ],
 "metadata": {
  "kernelspec": {
   "display_name": "Python 3",
   "language": "python",
   "name": "python3"
  },
  "language_info": {
   "codemirror_mode": {
    "name": "ipython",
    "version": 3
   },
   "file_extension": ".py",
   "mimetype": "text/x-python",
   "name": "python",
   "nbconvert_exporter": "python",
   "pygments_lexer": "ipython3",
   "version": "3.10.2"
  }
 },
 "nbformat": 4,
 "nbformat_minor": 2
}
