{
 "cells": [
  {
   "cell_type": "code",
   "execution_count": 12,
   "metadata": {},
   "outputs": [],
   "source": [
    "def selectionSort(arr):\n",
    "    unsorted_arr=arr\n",
    "    sorted_arr=[]\n",
    "    for round in range(len(arr)-1):\n",
    "        swap=False\n",
    "        current_min=unsorted_arr[0]\n",
    "        for index in range(1,len(unsorted_arr)):\n",
    "            if current_min>unsorted_arr[index]:\n",
    "                current_min=unsorted_arr[index]\n",
    "                min_index=index\n",
    "                swap=True\n",
    "        if swap:unsorted_arr[min_index]=unsorted_arr[0]\n",
    "        unsorted_arr=unsorted_arr[1:]\n",
    "        sorted_arr.append(current_min)\n",
    "    return sorted_arr\n",
    "\n",
    "         "
   ]
  },
  {
   "cell_type": "code",
   "execution_count": 13,
   "metadata": {},
   "outputs": [
    {
     "name": "stdout",
     "output_type": "stream",
     "text": [
      "[1, 2, 3, 4, 5, 6, 7, 8, 9, 10, 11, 12, 13, 14, 15, 16, 17, 18, 19, 20, 21, 22, 23, 24, 25, 26, 27, 28, 29, 30, 31, 32, 33, 34, 35, 36, 37, 38, 39, 40, 41, 42, 43, 44, 45, 46, 47, 48, 49]\n"
     ]
    }
   ],
   "source": [
    "\n",
    "arr=[32, 5, 25, 11, 47, 19, 41, 3, 39, 28, 14, 46, 8, 33, 22, 36, 6, 18, 23, 1, 15, 48, 9, 31, 49, 17, 10, 4, 7, 13, 42, 30, 34, 26, 40, 38, 16, 12, 20, 2, 50, 29, 27, 24, 43, 44, 45, 21, 35, 37]\n",
    "print(selectionSort(arr))"
   ]
  }
 ],
 "metadata": {
  "kernelspec": {
   "display_name": "Python 3",
   "language": "python",
   "name": "python3"
  },
  "language_info": {
   "codemirror_mode": {
    "name": "ipython",
    "version": 3
   },
   "file_extension": ".py",
   "mimetype": "text/x-python",
   "name": "python",
   "nbconvert_exporter": "python",
   "pygments_lexer": "ipython3",
   "version": "3.10.2"
  }
 },
 "nbformat": 4,
 "nbformat_minor": 2
}
